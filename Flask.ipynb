{
 "cells": [
  {
   "cell_type": "markdown",
   "id": "5ae58313-0fea-4126-8f50-c6a4a02778f4",
   "metadata": {},
   "source": [
    "### Data Science Project Steps"
   ]
  },
  {
   "cell_type": "code",
   "execution_count": null,
   "id": "0e3e4fd6",
   "metadata": {},
   "outputs": [],
   "source": [
    "1. Problem Statement\n",
    "2. Data Gathering              >> Data Engineer\n",
    "3. Exploratory Data Analysis   >> Data Analyst\n",
    "4. Feature Engineering\n",
    "5. Feature Selection\n",
    "6. Model Training\n",
    "7. Model Evaluation            >> Data Scientist/ML Engineer\n",
    "8. Model Optimization          >> Data Scientist/ML Engineer\n",
    "9. Web Framework(API)          >> Python Developers\n",
    "10. User Interface             >> UI/UX Designer/Developer\n",
    "11. Deployement                >> DevOps/MLOps Engineer"
   ]
  },
  {
   "cell_type": "markdown",
   "id": "8376846b",
   "metadata": {},
   "source": [
    "### Job Profiles"
   ]
  },
  {
   "cell_type": "code",
   "execution_count": null,
   "id": "5e2c2ac7",
   "metadata": {},
   "outputs": [],
   "source": [
    "Backend Developers:\n",
    "    Data Engineer\n",
    "    Data Analyst\n",
    "    Data Scientist/ML Engineer\n",
    "    Python Developers\n",
    "    \n",
    "Frontend Developers:\n",
    "    UX Developers >> Design\n",
    "    UI Developers >> Full Stack Developers >> HTML, CSS, JS\n",
    "    \n",
    "DevOps Engineer/MLOps Engineer"
   ]
  },
  {
   "cell_type": "markdown",
   "id": "271805ef",
   "metadata": {},
   "source": [
    "### Web Framework"
   ]
  },
  {
   "cell_type": "code",
   "execution_count": null,
   "id": "2be57081",
   "metadata": {},
   "outputs": [],
   "source": [
    "1. Flask\n",
    "2. DJango\n",
    "3. gRPC\n",
    "4. FastAPI"
   ]
  },
  {
   "cell_type": "markdown",
   "id": "24e2e536",
   "metadata": {},
   "source": [
    "### Flask"
   ]
  },
  {
   "cell_type": "code",
   "execution_count": null,
   "id": "9205d4f3",
   "metadata": {},
   "outputs": [],
   "source": [
    "UI >> User Interface\n",
    "API >> Application Programming Interface\n",
    "\n",
    "Python Web Framework\n",
    "WSGI >> Web Server Gateway Interface\n",
    "\n",
    "run.py\n",
    "interface.py\n",
    "main.py\n",
    "views.py\n",
    "wsgi.py\n",
    "\n",
    "Jinja Template >> HTML"
   ]
  },
  {
   "cell_type": "code",
   "execution_count": null,
   "id": "7b3a7a4d",
   "metadata": {},
   "outputs": [],
   "source": [
    "pip install flask\n",
    "conda install flask\n",
    "\n",
    "https://127.0.0.1:5000/\n",
    "        \n",
    "127.0.0.1:5000/ >> host >> Which will later be replaced by Domain name\n",
    "0.0.0.0\n",
    "localhost\n",
    "\n",
    "http  >> Hypertext Transfer Protocol\n",
    "https >> Hypertext Transfer Protocol Secure >> Security\n",
    "\n",
    "https://www.facebook.com/login/\n",
    "https://www.cardekho.com/\n",
    "    \n",
    "http://careers.zeenews.com/\n",
    "\n",
    "SSL Certificate >> Secure Socket Layer\n",
    "\n",
    "Homepage >> https://zeenews.india.com/\n",
    "Cricket API >> https://zeenews.india.com/cricket\n",
    "    \n",
    "https://127.0.0.1:5000/\n",
    "https://127.0.0.1:5000/test"
   ]
  },
  {
   "cell_type": "code",
   "execution_count": null,
   "id": "78889edd",
   "metadata": {},
   "outputs": [],
   "source": [
    "http://localhost:8888/notebooks/Flask.ipynb"
   ]
  },
  {
   "cell_type": "code",
   "execution_count": 1,
   "id": "b7912082",
   "metadata": {},
   "outputs": [
    {
     "name": "stdout",
     "output_type": "stream",
     "text": [
      " * Serving Flask app 'interface'\n",
      " * Debug mode: off\n"
     ]
    },
    {
     "name": "stderr",
     "output_type": "stream",
     "text": [
      "WARNING: This is a development server. Do not use it in a production deployment. Use a production WSGI server instead.\n",
      " * Running on http://127.0.0.1:5000\n",
      "Press CTRL+C to quit\n"
     ]
    }
   ],
   "source": [
    "import interface"
   ]
  },
  {
   "cell_type": "code",
   "execution_count": 3,
   "id": "85950f32",
   "metadata": {},
   "outputs": [],
   "source": [
    "import calculation"
   ]
  },
  {
   "cell_type": "code",
   "execution_count": 5,
   "id": "a77b84fe",
   "metadata": {},
   "outputs": [],
   "source": [
    "from calculation import get_addition"
   ]
  },
  {
   "cell_type": "code",
   "execution_count": 7,
   "id": "96c1c5c5",
   "metadata": {},
   "outputs": [
    {
     "ename": "ImportError",
     "evalue": "cannot import name 'get_multiplication' from 'calculation' (G:\\Velocity 20 Jan 2024\\05_24_Flask\\calculation.py)",
     "output_type": "error",
     "traceback": [
      "\u001b[1;31m---------------------------------------------------------------------------\u001b[0m",
      "\u001b[1;31mImportError\u001b[0m                               Traceback (most recent call last)",
      "Cell \u001b[1;32mIn[7], line 1\u001b[0m\n\u001b[1;32m----> 1\u001b[0m \u001b[38;5;28;01mfrom\u001b[39;00m \u001b[38;5;21;01mcalculation\u001b[39;00m \u001b[38;5;28;01mimport\u001b[39;00m get_multiplication\n",
      "\u001b[1;31mImportError\u001b[0m: cannot import name 'get_multiplication' from 'calculation' (G:\\Velocity 20 Jan 2024\\05_24_Flask\\calculation.py)"
     ]
    }
   ],
   "source": [
    "from calculation import get_multiplication"
   ]
  },
  {
   "cell_type": "code",
   "execution_count": null,
   "id": "148e9318",
   "metadata": {},
   "outputs": [],
   "source": []
  },
  {
   "cell_type": "code",
   "execution_count": null,
   "id": "7173bdc3",
   "metadata": {},
   "outputs": [],
   "source": []
  },
  {
   "cell_type": "code",
   "execution_count": null,
   "id": "e8086b5e",
   "metadata": {},
   "outputs": [],
   "source": []
  },
  {
   "cell_type": "code",
   "execution_count": null,
   "id": "1685b465",
   "metadata": {},
   "outputs": [],
   "source": []
  },
  {
   "cell_type": "code",
   "execution_count": null,
   "id": "b8c27f93",
   "metadata": {},
   "outputs": [],
   "source": []
  },
  {
   "cell_type": "code",
   "execution_count": null,
   "id": "5706047b",
   "metadata": {},
   "outputs": [],
   "source": []
  },
  {
   "cell_type": "code",
   "execution_count": null,
   "id": "279ed118",
   "metadata": {},
   "outputs": [],
   "source": []
  },
  {
   "cell_type": "code",
   "execution_count": null,
   "id": "a4e91834",
   "metadata": {},
   "outputs": [],
   "source": []
  },
  {
   "cell_type": "code",
   "execution_count": null,
   "id": "ddbc26c8",
   "metadata": {},
   "outputs": [],
   "source": []
  },
  {
   "cell_type": "code",
   "execution_count": null,
   "id": "05ddfdae",
   "metadata": {},
   "outputs": [],
   "source": []
  }
 ],
 "metadata": {
  "kernelspec": {
   "display_name": "Python 3 (ipykernel)",
   "language": "python",
   "name": "python3"
  },
  "language_info": {
   "codemirror_mode": {
    "name": "ipython",
    "version": 3
   },
   "file_extension": ".py",
   "mimetype": "text/x-python",
   "name": "python",
   "nbconvert_exporter": "python",
   "pygments_lexer": "ipython3",
   "version": "3.10.9"
  }
 },
 "nbformat": 4,
 "nbformat_minor": 5
}
